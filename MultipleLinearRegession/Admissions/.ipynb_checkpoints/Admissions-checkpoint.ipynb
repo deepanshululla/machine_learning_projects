{
 "cells": [
  {
   "cell_type": "markdown",
   "metadata": {},
   "source": [
    "# University Admissions"
   ]
  },
  {
   "cell_type": "markdown",
   "metadata": {
    "collapsed": true
   },
   "source": [
    "- In this project, a regression model is developed to predict the probability of being accepted for Graduate school.\n",
    "- Data Source: https://www.kaggle.com/mohansacharya/graduate-admissions\n",
    "- Citation: Mohan S Acharya, Asfia Armaan, Aneeta S Antony : A Comparison of Regression Models for Prediction of Graduate Admissions, IEEE International Conference on Computational Intelligence in Data Science 2019\n",
    "\n",
    "- The dataset contains the following parameters: \n",
    "    - GRE Scores ( out of 340 ) \n",
    "    - TOEFL Scores ( out of 120 ) \n",
    "    - University Rating ( out of 5 ) \n",
    "    - Statement of Purpose and Letter of Recommendation Strength ( out of 5 ) \n",
    "    - Undergraduate GPA ( out of 10 ) \n",
    "    - Research Experience ( either 0 or 1 ) \n",
    "    - Chance of Admit ( ranging from 0 to 1 )"
   ]
  },
  {
   "cell_type": "markdown",
   "metadata": {},
   "source": [
    "# STEP #0: IMPORT LIBRARIES "
   ]
  },
  {
   "cell_type": "code",
   "execution_count": null,
   "metadata": {},
   "outputs": [],
   "source": []
  }
 ],
 "metadata": {
  "kernelspec": {
   "display_name": "Python 3 (ipykernel)",
   "language": "python",
   "name": "python3"
  },
  "language_info": {
   "codemirror_mode": {
    "name": "ipython",
    "version": 3
   },
   "file_extension": ".py",
   "mimetype": "text/x-python",
   "name": "python",
   "nbconvert_exporter": "python",
   "pygments_lexer": "ipython3",
   "version": "3.9.13"
  }
 },
 "nbformat": 4,
 "nbformat_minor": 1
}
