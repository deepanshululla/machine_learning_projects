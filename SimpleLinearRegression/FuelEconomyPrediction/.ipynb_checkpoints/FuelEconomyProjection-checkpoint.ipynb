{
 "cells": [
  {
   "cell_type": "markdown",
   "id": "335464ed",
   "metadata": {},
   "source": [
    "### Problem statement\n",
    "\n",
    "- You have been hired as a consultant to a major Automotive Manufacturer and you have been tasked to develop a model to predict the impact of increasing the vehicle horsepower (HP) on fuel economy (Mileage Per Gallon (MPG)). You gathered the data:\n",
    "- Data set:\n",
    "    - Independant variable X: Vehicle Horse Power \n",
    "    - Dependant variable Y: Mileage Per Gallon (MPG) "
   ]
  },
  {
   "cell_type": "code",
   "execution_count": 2,
   "id": "8d8d9e32",
   "metadata": {},
   "outputs": [],
   "source": [
    "import numpy as np\n",
    "import pandas as pd"
   ]
  },
  {
   "cell_type": "code",
   "execution_count": 3,
   "id": "cfa0bf70",
   "metadata": {},
   "outputs": [],
   "source": [
    "data = pd.read_csv('FuelEconomy.csv')"
   ]
  },
  {
   "cell_type": "code",
   "execution_count": 4,
   "id": "115d3529",
   "metadata": {},
   "outputs": [
    {
     "data": {
      "text/html": [
       "<div>\n",
       "<style scoped>\n",
       "    .dataframe tbody tr th:only-of-type {\n",
       "        vertical-align: middle;\n",
       "    }\n",
       "\n",
       "    .dataframe tbody tr th {\n",
       "        vertical-align: top;\n",
       "    }\n",
       "\n",
       "    .dataframe thead th {\n",
       "        text-align: right;\n",
       "    }\n",
       "</style>\n",
       "<table border=\"1\" class=\"dataframe\">\n",
       "  <thead>\n",
       "    <tr style=\"text-align: right;\">\n",
       "      <th></th>\n",
       "      <th>Horse Power</th>\n",
       "      <th>Fuel Economy (MPG)</th>\n",
       "    </tr>\n",
       "  </thead>\n",
       "  <tbody>\n",
       "    <tr>\n",
       "      <th>95</th>\n",
       "      <td>162.810542</td>\n",
       "      <td>27.418661</td>\n",
       "    </tr>\n",
       "    <tr>\n",
       "      <th>96</th>\n",
       "      <td>266.869640</td>\n",
       "      <td>15.989945</td>\n",
       "    </tr>\n",
       "    <tr>\n",
       "      <th>97</th>\n",
       "      <td>243.831211</td>\n",
       "      <td>19.253375</td>\n",
       "    </tr>\n",
       "    <tr>\n",
       "      <th>98</th>\n",
       "      <td>140.959803</td>\n",
       "      <td>29.515593</td>\n",
       "    </tr>\n",
       "    <tr>\n",
       "      <th>99</th>\n",
       "      <td>184.123053</td>\n",
       "      <td>25.196097</td>\n",
       "    </tr>\n",
       "  </tbody>\n",
       "</table>\n",
       "</div>"
      ],
      "text/plain": [
       "    Horse Power  Fuel Economy (MPG)\n",
       "95   162.810542           27.418661\n",
       "96   266.869640           15.989945\n",
       "97   243.831211           19.253375\n",
       "98   140.959803           29.515593\n",
       "99   184.123053           25.196097"
      ]
     },
     "execution_count": 4,
     "metadata": {},
     "output_type": "execute_result"
    }
   ],
   "source": [
    "data.tail()"
   ]
  },
  {
   "cell_type": "code",
   "execution_count": null,
   "id": "ff3a866e",
   "metadata": {},
   "outputs": [],
   "source": []
  }
 ],
 "metadata": {
  "kernelspec": {
   "display_name": "Python 3 (ipykernel)",
   "language": "python",
   "name": "python3"
  },
  "language_info": {
   "codemirror_mode": {
    "name": "ipython",
    "version": 3
   },
   "file_extension": ".py",
   "mimetype": "text/x-python",
   "name": "python",
   "nbconvert_exporter": "python",
   "pygments_lexer": "ipython3",
   "version": "3.9.13"
  }
 },
 "nbformat": 4,
 "nbformat_minor": 5
}
